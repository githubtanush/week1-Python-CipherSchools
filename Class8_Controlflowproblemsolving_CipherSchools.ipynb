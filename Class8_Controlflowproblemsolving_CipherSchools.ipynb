{
  "nbformat": 4,
  "nbformat_minor": 0,
  "metadata": {
    "colab": {
      "provenance": [],
      "authorship_tag": "ABX9TyNGlkKWdw0cvnHTQF7nnq5o",
      "include_colab_link": true
    },
    "kernelspec": {
      "name": "python3",
      "display_name": "Python 3"
    },
    "language_info": {
      "name": "python"
    }
  },
  "cells": [
    {
      "cell_type": "markdown",
      "metadata": {
        "id": "view-in-github",
        "colab_type": "text"
      },
      "source": [
        "<a href=\"https://colab.research.google.com/github/githubtanush/week1-Python-CipherSchools/blob/main/Class8_Controlflowproblemsolving_CipherSchools.ipynb\" target=\"_parent\"><img src=\"https://colab.research.google.com/assets/colab-badge.svg\" alt=\"Open In Colab\"/></a>"
      ]
    },
    {
      "cell_type": "code",
      "execution_count": null,
      "metadata": {
        "id": "A3SA7giVl0bN"
      },
      "outputs": [],
      "source": [
        "n = 5\n",
        "for i in range(n):\n",
        "    for j in range(n):\n",
        "        print(i, end = \" \")\n",
        "    print()"
      ]
    },
    {
      "cell_type": "code",
      "source": [
        "n = 5\n",
        "for i in range(n):\n",
        "  for j in range(n):\n",
        "    print(i, end = \" \")\n",
        "    print()"
      ],
      "metadata": {
        "id": "DXTHkeqZl1bG"
      },
      "execution_count": null,
      "outputs": []
    },
    {
      "cell_type": "code",
      "source": [
        "n = 5\n",
        "for i in range(n):\n",
        "    for j in range(n):\n",
        "        print(n-j, end = \" \")\n",
        "    print()"
      ],
      "metadata": {
        "id": "_V5Sm_XFl1d6"
      },
      "execution_count": null,
      "outputs": []
    },
    {
      "cell_type": "code",
      "source": [
        "n = 5\n",
        "for i in range(n):\n",
        "    for j in range(n):\n",
        "        print(n-j-1, end = \" \")\n",
        "    print()\n",
        "In [ ]:\n"
      ],
      "metadata": {
        "id": "EbNdX93Tl1gh"
      },
      "execution_count": null,
      "outputs": []
    },
    {
      "cell_type": "code",
      "source": [
        "n = 5\n",
        "for i in range(n):\n",
        "    for j in range(n):\n",
        "        print(j+1, end = \" \")\n",
        "    print()"
      ],
      "metadata": {
        "id": "uXETviK4l1jG"
      },
      "execution_count": null,
      "outputs": []
    },
    {
      "cell_type": "code",
      "source": [
        "max(1, 2, 3, 4, 5, 7)"
      ],
      "metadata": {
        "id": "fG5vIh8yl1lt"
      },
      "execution_count": null,
      "outputs": []
    },
    {
      "cell_type": "code",
      "source": [
        "n = 18\n",
        "for i in range(n):\n",
        "    for j in range(n):\n",
        "        print(max(i+1, j+1, n-i, n-j), end = \" \")\n",
        "    print()"
      ],
      "metadata": {
        "id": "xWRLwQSLl1oV"
      },
      "execution_count": null,
      "outputs": []
    },
    {
      "cell_type": "code",
      "source": [
        "n = 5\n",
        "for i in range(n):\n",
        "    for j in range(n):\n",
        "      i, j\n",
        "      print((i,j), end = \" \")\n",
        "    print()"
      ],
      "metadata": {
        "colab": {
          "base_uri": "https://localhost:8080/"
        },
        "id": "TV3s9Vfvl1q7",
        "outputId": "f19981e3-0495-4477-e27c-70de5b64b89f"
      },
      "execution_count": 1,
      "outputs": [
        {
          "output_type": "stream",
          "name": "stdout",
          "text": [
            "(0, 0) (0, 1) (0, 2) (0, 3) (0, 4) \n",
            "(1, 0) (1, 1) (1, 2) (1, 3) (1, 4) \n",
            "(2, 0) (2, 1) (2, 2) (2, 3) (2, 4) \n",
            "(3, 0) (3, 1) (3, 2) (3, 3) (3, 4) \n",
            "(4, 0) (4, 1) (4, 2) (4, 3) (4, 4) \n"
          ]
        }
      ]
    },
    {
      "cell_type": "code",
      "source": [
        "for i in range(n):\n",
        "    for j in range(n):\n",
        "        print(i, end = \" \")\n",
        "    print()"
      ],
      "metadata": {
        "id": "GH92yPPWl1tR"
      },
      "execution_count": null,
      "outputs": []
    },
    {
      "cell_type": "code",
      "source": [
        "n = 5\n",
        "for i in range(n):\n",
        "    for j in range(n):\n",
        "        print(j, end = \" \")\n",
        "    print()"
      ],
      "metadata": {
        "id": "LXfA3l4Tl1wJ"
      },
      "execution_count": null,
      "outputs": []
    },
    {
      "cell_type": "code",
      "source": [
        "n = 5\n",
        "for i in range(n):\n",
        "    for j in range(n):\n",
        "        print(max(i,j), end = \" \")\n",
        "    print()"
      ],
      "metadata": {
        "id": "7Bl04T9rl1yv"
      },
      "execution_count": null,
      "outputs": []
    },
    {
      "cell_type": "code",
      "source": [
        "n = 5\n",
        "for i in range(n):\n",
        "    for j in range(n):\n",
        "        print(n-i, end = \" \")\n",
        "    print()"
      ],
      "metadata": {
        "id": "8DM7j5ecl113"
      },
      "execution_count": null,
      "outputs": []
    },
    {
      "cell_type": "code",
      "source": [
        "n = 5\n",
        "for i in range(n):\n",
        "    for j in range(n):\n",
        "        print(n-i-1, end = \" \")\n",
        "    print()"
      ],
      "metadata": {
        "id": "A0C9S1qIl14d"
      },
      "execution_count": null,
      "outputs": []
    },
    {
      "cell_type": "code",
      "source": [
        "n = 5\n",
        "for i in range(n):\n",
        "    for j in range(n):\n",
        "        print(n-j-1, end = \" \")\n",
        "    print()"
      ],
      "metadata": {
        "id": "j7xtR_Gdl17W"
      },
      "execution_count": null,
      "outputs": []
    },
    {
      "cell_type": "code",
      "source": [
        "n = 5\n",
        "for i in range(n):\n",
        "    for j in range(n):\n",
        "        print(max(n-j-1, n-i-1), end = \" \")\n",
        "    print()"
      ],
      "metadata": {
        "id": "vrau7hr2l1-N"
      },
      "execution_count": null,
      "outputs": []
    },
    {
      "cell_type": "code",
      "source": [
        "n = 5\n",
        "for i in range(n):\n",
        "    for j in range(n):\n",
        "        print(\n",
        "            max(max(i+1, j+1),max(n-j, n-i)\n",
        "        ), end = \" \")\n",
        "    print()\n"
      ],
      "metadata": {
        "id": "SBWwh4bCmgUf"
      },
      "execution_count": null,
      "outputs": []
    },
    {
      "cell_type": "code",
      "source": [
        "sum([1, 2, 3, 4, 5, 5, 6, 7, 8, 9])"
      ],
      "metadata": {
        "id": "2zBBqN7fmgYC"
      },
      "execution_count": null,
      "outputs": []
    }
  ]
}